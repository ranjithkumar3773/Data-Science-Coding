{
 "cells": [
  {
   "cell_type": "markdown",
   "id": "fixed-western",
   "metadata": {},
   "source": [
    "# Zeta Disease Prediction"
   ]
  },
  {
   "cell_type": "markdown",
   "id": "upper-shame",
   "metadata": {},
   "source": [
    "### Importing packages"
   ]
  },
  {
   "cell_type": "code",
   "execution_count": 1,
   "id": "royal-democracy",
   "metadata": {},
   "outputs": [],
   "source": [
    "# Start Python Imports\n",
    "import math, time, random, datetime\n",
    "\n",
    "# Data Manipulation\n",
    "import numpy as np\n",
    "import pandas as pd\n",
    "\n",
    "# Visualization \n",
    "import matplotlib.pyplot as plt\n",
    "import seaborn as sns\n",
    "\n",
    "# Preprocessing\n",
    "from sklearn.preprocessing import OneHotEncoder, LabelEncoder, label_binarize, StandardScaler\n",
    "\n",
    "# Machine learning\n",
    "import catboost\n",
    "from sklearn.model_selection import train_test_split, cross_val_score\n",
    "from sklearn import model_selection, tree, preprocessing, metrics, linear_model\n",
    "from sklearn.svm import SVC\n",
    "from sklearn.linear_model import Perceptron\n",
    "from sklearn.svm import LinearSVC\n",
    "from sklearn.ensemble import GradientBoostingClassifier\n",
    "from sklearn.neighbors import KNeighborsClassifier\n",
    "from sklearn.naive_bayes import GaussianNB\n",
    "from sklearn.linear_model import LinearRegression, LogisticRegression, SGDClassifier\n",
    "from sklearn.tree import DecisionTreeClassifier\n",
    "from sklearn.ensemble import RandomForestClassifier\n",
    "from catboost import CatBoostClassifier, Pool, cv\n",
    "from sklearn.metrics import confusion_matrix\n",
    "\n",
    "# Use GridSearchCV to find the best parameters.\n",
    "from sklearn.model_selection import GridSearchCV\n",
    "from sklearn.metrics import confusion_matrix, accuracy_score, classification_report,roc_curve, auc\n",
    "\n",
    "# Let's be rebels and ignore warnings for now\n",
    "import warnings\n",
    "warnings.filterwarnings('ignore')\n",
    "\n",
    "# for saving model\n",
    "import pickle"
   ]
  },
  {
   "cell_type": "markdown",
   "id": "rolled-patent",
   "metadata": {},
   "source": [
    "### Reading & Processing data"
   ]
  },
  {
   "cell_type": "code",
   "execution_count": 2,
   "id": "heard-maldives",
   "metadata": {},
   "outputs": [
    {
     "data": {
      "text/plain": [
       "(800, 9)"
      ]
     },
     "execution_count": 2,
     "metadata": {},
     "output_type": "execute_result"
    }
   ],
   "source": [
    "train = pd.read_csv(\"2021-01-21_zeta-disease_training-data_dsi-take-home-challenge.csv\")\n",
    "train.head()\n",
    "train.shape"
   ]
  },
  {
   "cell_type": "code",
   "execution_count": 3,
   "id": "revised-approval",
   "metadata": {},
   "outputs": [
    {
     "data": {
      "text/html": [
       "<div>\n",
       "<style scoped>\n",
       "    .dataframe tbody tr th:only-of-type {\n",
       "        vertical-align: middle;\n",
       "    }\n",
       "\n",
       "    .dataframe tbody tr th {\n",
       "        vertical-align: top;\n",
       "    }\n",
       "\n",
       "    .dataframe thead th {\n",
       "        text-align: right;\n",
       "    }\n",
       "</style>\n",
       "<table border=\"1\" class=\"dataframe\">\n",
       "  <thead>\n",
       "    <tr style=\"text-align: right;\">\n",
       "      <th></th>\n",
       "      <th>age</th>\n",
       "      <th>weight</th>\n",
       "      <th>bmi</th>\n",
       "      <th>blood_pressure</th>\n",
       "      <th>insulin_test</th>\n",
       "      <th>liver_stress_test</th>\n",
       "      <th>cardio_stress_test</th>\n",
       "      <th>years_smoking</th>\n",
       "      <th>zeta_disease</th>\n",
       "    </tr>\n",
       "  </thead>\n",
       "  <tbody>\n",
       "    <tr>\n",
       "      <th>0</th>\n",
       "      <td>54</td>\n",
       "      <td>189</td>\n",
       "      <td>27.1</td>\n",
       "      <td>80</td>\n",
       "      <td>0</td>\n",
       "      <td>1.5038</td>\n",
       "      <td>0</td>\n",
       "      <td>10</td>\n",
       "      <td>0</td>\n",
       "    </tr>\n",
       "    <tr>\n",
       "      <th>1</th>\n",
       "      <td>23</td>\n",
       "      <td>150</td>\n",
       "      <td>38.5</td>\n",
       "      <td>68</td>\n",
       "      <td>71</td>\n",
       "      <td>0.3868</td>\n",
       "      <td>55</td>\n",
       "      <td>2</td>\n",
       "      <td>0</td>\n",
       "    </tr>\n",
       "    <tr>\n",
       "      <th>2</th>\n",
       "      <td>47</td>\n",
       "      <td>186</td>\n",
       "      <td>29.9</td>\n",
       "      <td>90</td>\n",
       "      <td>0</td>\n",
       "      <td>0.2728</td>\n",
       "      <td>0</td>\n",
       "      <td>7</td>\n",
       "      <td>0</td>\n",
       "    </tr>\n",
       "    <tr>\n",
       "      <th>3</th>\n",
       "      <td>18</td>\n",
       "      <td>150</td>\n",
       "      <td>30.8</td>\n",
       "      <td>70</td>\n",
       "      <td>1033</td>\n",
       "      <td>0.6598</td>\n",
       "      <td>56</td>\n",
       "      <td>0</td>\n",
       "      <td>0</td>\n",
       "    </tr>\n",
       "    <tr>\n",
       "      <th>4</th>\n",
       "      <td>24</td>\n",
       "      <td>160</td>\n",
       "      <td>32.4</td>\n",
       "      <td>74</td>\n",
       "      <td>125</td>\n",
       "      <td>0.7608</td>\n",
       "      <td>59</td>\n",
       "      <td>2</td>\n",
       "      <td>0</td>\n",
       "    </tr>\n",
       "    <tr>\n",
       "      <th>5</th>\n",
       "      <td>49</td>\n",
       "      <td>158</td>\n",
       "      <td>27.0</td>\n",
       "      <td>80</td>\n",
       "      <td>0</td>\n",
       "      <td>0.3218</td>\n",
       "      <td>0</td>\n",
       "      <td>2</td>\n",
       "      <td>1</td>\n",
       "    </tr>\n",
       "    <tr>\n",
       "      <th>6</th>\n",
       "      <td>20</td>\n",
       "      <td>154</td>\n",
       "      <td>27.8</td>\n",
       "      <td>64</td>\n",
       "      <td>116</td>\n",
       "      <td>0.5168</td>\n",
       "      <td>53</td>\n",
       "      <td>0</td>\n",
       "      <td>0</td>\n",
       "    </tr>\n",
       "    <tr>\n",
       "      <th>7</th>\n",
       "      <td>37</td>\n",
       "      <td>167</td>\n",
       "      <td>34.5</td>\n",
       "      <td>88</td>\n",
       "      <td>145</td>\n",
       "      <td>0.4658</td>\n",
       "      <td>54</td>\n",
       "      <td>1</td>\n",
       "      <td>1</td>\n",
       "    </tr>\n",
       "    <tr>\n",
       "      <th>8</th>\n",
       "      <td>21</td>\n",
       "      <td>162</td>\n",
       "      <td>34.8</td>\n",
       "      <td>80</td>\n",
       "      <td>132</td>\n",
       "      <td>0.2798</td>\n",
       "      <td>75</td>\n",
       "      <td>1</td>\n",
       "      <td>0</td>\n",
       "    </tr>\n",
       "    <tr>\n",
       "      <th>9</th>\n",
       "      <td>19</td>\n",
       "      <td>186</td>\n",
       "      <td>31.2</td>\n",
       "      <td>70</td>\n",
       "      <td>0</td>\n",
       "      <td>1.2448</td>\n",
       "      <td>0</td>\n",
       "      <td>4</td>\n",
       "      <td>1</td>\n",
       "    </tr>\n",
       "  </tbody>\n",
       "</table>\n",
       "</div>"
      ],
      "text/plain": [
       "   age  weight   bmi  blood_pressure  insulin_test  liver_stress_test  \\\n",
       "0   54     189  27.1              80             0             1.5038   \n",
       "1   23     150  38.5              68            71             0.3868   \n",
       "2   47     186  29.9              90             0             0.2728   \n",
       "3   18     150  30.8              70          1033             0.6598   \n",
       "4   24     160  32.4              74           125             0.7608   \n",
       "5   49     158  27.0              80             0             0.3218   \n",
       "6   20     154  27.8              64           116             0.5168   \n",
       "7   37     167  34.5              88           145             0.4658   \n",
       "8   21     162  34.8              80           132             0.2798   \n",
       "9   19     186  31.2              70             0             1.2448   \n",
       "\n",
       "   cardio_stress_test  years_smoking  zeta_disease  \n",
       "0                   0             10             0  \n",
       "1                  55              2             0  \n",
       "2                   0              7             0  \n",
       "3                  56              0             0  \n",
       "4                  59              2             0  \n",
       "5                   0              2             1  \n",
       "6                  53              0             0  \n",
       "7                  54              1             1  \n",
       "8                  75              1             0  \n",
       "9                   0              4             1  "
      ]
     },
     "execution_count": 3,
     "metadata": {},
     "output_type": "execute_result"
    }
   ],
   "source": [
    "#copying data_raw to another data frame\n",
    "data = pd.DataFrame.copy(train)\n",
    "data.head(10)"
   ]
  },
  {
   "cell_type": "code",
   "execution_count": 4,
   "id": "outstanding-cherry",
   "metadata": {},
   "outputs": [
    {
     "name": "stdout",
     "output_type": "stream",
     "text": [
      "Categorical freatures are 0 numbers\n",
      "Numerical freatures are 9 numbers\n",
      "Target variable is zeta_disease\n"
     ]
    }
   ],
   "source": [
    "# creating list of categorical columns, numerical columns, continous columns and target\n",
    "categorical_columns = [features for features in data.columns if data[features].dtypes == \"O\"]\n",
    "print(\"Categorical freatures are\",len(categorical_columns),\"numbers\")\n",
    "numerical_columns = [features for features in data.columns if data[features].dtypes != \"O\"]\n",
    "print(\"Numerical freatures are\",len(numerical_columns),\"numbers\")\n",
    "target = [\"zeta_disease\"]\n",
    "print(\"Target variable is zeta_disease\")"
   ]
  },
  {
   "cell_type": "code",
   "execution_count": 5,
   "id": "demographic-nicholas",
   "metadata": {},
   "outputs": [
    {
     "name": "stdout",
     "output_type": "stream",
     "text": [
      "There are  5 Duplicate Rows. Need to delete them from dataset.\n"
     ]
    }
   ],
   "source": [
    "# Select duplicate rows except first occurrence based on all columns\n",
    "duplicateRows = data[data.duplicated()]\n",
    " \n",
    "print(\"There are \",len(duplicateRows), \"Duplicate Rows. Need to delete them from dataset.\")"
   ]
  },
  {
   "cell_type": "code",
   "execution_count": 6,
   "id": "absolute-highlight",
   "metadata": {},
   "outputs": [
    {
     "data": {
      "text/plain": [
       "(795, 9)"
      ]
     },
     "execution_count": 6,
     "metadata": {},
     "output_type": "execute_result"
    }
   ],
   "source": [
    "data = data.drop_duplicates(keep=\"first\")\n",
    "data.shape"
   ]
  },
  {
   "cell_type": "code",
   "execution_count": 7,
   "id": "thrown-keyboard",
   "metadata": {},
   "outputs": [],
   "source": [
    "# checking for missing values\n",
    "features_with_na = [features for features in data.columns if data[features].isnull().sum()>0]\n",
    "\n",
    "for feature in features_with_na:\n",
    "    print(feature, \"has\", data[feature].isnull().sum(), \"missing values\")"
   ]
  },
  {
   "cell_type": "markdown",
   "id": "defined-muscle",
   "metadata": {},
   "source": [
    "No missing values in dataset"
   ]
  },
  {
   "cell_type": "markdown",
   "id": "ahead-intake",
   "metadata": {},
   "source": [
    "### EDA"
   ]
  },
  {
   "cell_type": "code",
   "execution_count": 8,
   "id": "exposed-tender",
   "metadata": {
    "scrolled": false
   },
   "outputs": [
    {
     "name": "stdout",
     "output_type": "stream",
     "text": [
      "========== age\n",
      "count    795.000000\n",
      "mean      30.636478\n",
      "std       12.861397\n",
      "min       18.000000\n",
      "25%       21.000000\n",
      "50%       26.000000\n",
      "75%       38.000000\n",
      "max      109.000000\n",
      "Name: age, dtype: float64\n",
      "========== weight\n",
      "count    795.000000\n",
      "mean     172.376101\n",
      "std       31.686964\n",
      "min       94.000000\n",
      "25%      150.000000\n",
      "50%      167.000000\n",
      "75%      192.000000\n",
      "max      308.000000\n",
      "Name: weight, dtype: float64\n",
      "========== bmi\n",
      "count    795.000000\n",
      "mean      32.230566\n",
      "std        8.564706\n",
      "min        0.000000\n",
      "25%       27.300000\n",
      "50%       32.200000\n",
      "75%       36.600000\n",
      "max       86.100000\n",
      "Name: bmi, dtype: float64\n",
      "========== blood_pressure\n",
      "count    795.000000\n",
      "mean      69.567296\n",
      "std       19.922177\n",
      "min        0.000000\n",
      "25%       62.000000\n",
      "50%       72.000000\n",
      "75%       80.000000\n",
      "max      157.000000\n",
      "Name: blood_pressure, dtype: float64\n",
      "========== insulin_test\n",
      "count     795.000000\n",
      "mean       85.905660\n",
      "std       126.687381\n",
      "min         0.000000\n",
      "25%         0.000000\n",
      "50%        45.000000\n",
      "75%       130.000000\n",
      "max      1077.000000\n",
      "Name: insulin_test, dtype: float64\n",
      "========== liver_stress_test\n",
      "count    795.000000\n",
      "mean       0.543723\n",
      "std        0.348124\n",
      "min        0.140800\n",
      "25%        0.307800\n",
      "50%        0.444800\n",
      "75%        0.699800\n",
      "max        3.481300\n",
      "Name: liver_stress_test, dtype: float64\n",
      "========== cardio_stress_test\n",
      "count    795.000000\n",
      "mean      43.066667\n",
      "std       30.495436\n",
      "min        0.000000\n",
      "25%        0.000000\n",
      "50%       53.000000\n",
      "75%       62.000000\n",
      "max      214.000000\n",
      "Name: cardio_stress_test, dtype: float64\n",
      "========== years_smoking\n",
      "count    795.000000\n",
      "mean       4.056604\n",
      "std        4.177192\n",
      "min        0.000000\n",
      "25%        1.000000\n",
      "50%        3.000000\n",
      "75%        6.000000\n",
      "max       40.000000\n",
      "Name: years_smoking, dtype: float64\n",
      "========== zeta_disease\n",
      "count    795.000000\n",
      "mean       0.349686\n",
      "std        0.477171\n",
      "min        0.000000\n",
      "25%        0.000000\n",
      "50%        0.000000\n",
      "75%        1.000000\n",
      "max        1.000000\n",
      "Name: zeta_disease, dtype: float64\n"
     ]
    }
   ],
   "source": [
    "# Looking into numerical columns in dataset\n",
    "for feature in data.columns:\n",
    "    print(\"=\"*10, feature)\n",
    "    print(data[feature].describe())   "
   ]
  },
  {
   "cell_type": "code",
   "execution_count": 10,
   "id": "sustained-approach",
   "metadata": {},
   "outputs": [
    {
     "data": {
      "image/png": "[encoded data removed]",
      "text/plain": [
       "<Figure size 432x288 with 1 Axes>"
      ]
     },
     "metadata": {
      "needs_background": "light"
     },
     "output_type": "display_data"
    }
   ],
   "source": [
    "# Cheking the distribution of the target variable (Balanced data or Unbalanced data)\n",
    "colors3=[\"#1d3f7a\", \"#7a1d3f\"]\n",
    "sns.countplot('zeta_disease', data=data, palette=colors3)\n",
    "plt.title('Distribution of Classes of Target variable', fontsize=14)\n",
    "plt.show()"
   ]
  },
  {
   "cell_type": "markdown",
   "id": "fresh-subscriber",
   "metadata": {},
   "source": [
    "This plot clearly shows that the distribution of output classes are balanced as ratio of data is appraximately 1:3"
   ]
  },
  {
   "cell_type": "code",
   "execution_count": 11,
   "id": "south-philosophy",
   "metadata": {
    "scrolled": false
   },
   "outputs": [
    {
     "data": {
      "image/png": "[encoded data removed]",
      "text/plain": [
       "<Figure size 432x288 with 1 Axes>"
      ]
     },
     "metadata": {
      "needs_background": "light"
     },
     "output_type": "display_data"
    },
    {
     "data": {
      "image/png": "[encoded data removed]",
      "text/plain": [
       "<Figure size 432x288 with 1 Axes>"
      ]
     },
     "metadata": {
      "needs_background": "light"
     },
     "output_type": "display_data"
    },
    {
     "data": {
      "image/png": "[encoded data removed]",
      "text/plain": [
       "<Figure size 432x288 with 1 Axes>"
      ]
     },
     "metadata": {
      "needs_background": "light"
     },
     "output_type": "display_data"
    },
    {
     "data": {
      "image/png": "[encoded data removed]",
      "text/plain": [
       "<Figure size 432x288 with 1 Axes>"
      ]
     },
     "metadata": {
      "needs_background": "light"
     },
     "output_type": "display_data"
    },
    {
     "data": {
      "image/png": "[encoded data removed]",
      "text/plain": [
       "<Figure size 432x288 with 1 Axes>"
      ]
     },
     "metadata": {
      "needs_background": "light"
     },
     "output_type": "display_data"
    },
    {
     "data": {
      "image/png": "[encoded data removed]",
      "text/plain": [
       "<Figure size 432x288 with 1 Axes>"
      ]
     },
     "metadata": {
      "needs_background": "light"
     },
     "output_type": "display_data"
    },
    {
     "data": {
      "image/png": "[encoded data removed]",
      "text/plain": [
       "<Figure size 432x288 with 1 Axes>"
      ]
     },
     "metadata": {
      "needs_background": "light"
     },
     "output_type": "display_data"
    },
    {
     "data": {
      "image/png": "[encoded data removed]",
      "text/plain": [
       "<Figure size 432x288 with 1 Axes>"
      ]
     },
     "metadata": {
      "needs_background": "light"
     },
     "output_type": "display_data"
    },
    {
     "data": {
      "image/png": "[encoded data removed]",
      "text/plain": [
       "<Figure size 432x288 with 1 Axes>"
      ]
     },
     "metadata": {
      "needs_background": "light"
     },
     "output_type": "display_data"
    }
   ],
   "source": [
    "# checking relationship between numerical variables and target\n",
    "\n",
    "for feature in data.columns:\n",
    "    data_EDA=data.copy()\n",
    "    colors1=[\"#940a16\",\"#0a2d94\"]\n",
    "    sns.barplot(x=\"zeta_disease\", y=feature, data=data_EDA, order=[1,0], palette=colors1)\n",
    "    plt.xlabel('zeta_disease')\n",
    "    plt.xticks(rotation=90)\n",
    "    plt.ylabel(feature)\n",
    "    plt.title(feature)\n",
    "    plt.show()"
   ]
  },
  {
   "cell_type": "code",
   "execution_count": 12,
   "id": "selective-powell",
   "metadata": {
    "scrolled": false
   },
   "outputs": [
    {
     "data": {
      "image/png": "[encoded data removed]",
      "text/plain": [
       "<Figure size 360x360 with 1 Axes>"
      ]
     },
     "metadata": {
      "needs_background": "light"
     },
     "output_type": "display_data"
    },
    {
     "data": {
      "image/png": "[encoded data removed]",
      "text/plain": [
       "<Figure size 360x360 with 1 Axes>"
      ]
     },
     "metadata": {
      "needs_background": "light"
     },
     "output_type": "display_data"
    },
    {
     "data": {
      "image/png": "[encoded data removed]",
      "text/plain": [
       "<Figure size 360x360 with 1 Axes>"
      ]
     },
     "metadata": {
      "needs_background": "light"
     },
     "output_type": "display_data"
    },
    {
     "data": {
      "image/png": "[encoded data removed]",
      "text/plain": [
       "<Figure size 360x360 with 1 Axes>"
      ]
     },
     "metadata": {
      "needs_background": "light"
     },
     "output_type": "display_data"
    },
    {
     "data": {
      "image/png": "[encoded data removed]",
      "text/plain": [
       "<Figure size 360x360 with 1 Axes>"
      ]
     },
     "metadata": {
      "needs_background": "light"
     },
     "output_type": "display_data"
    },
    {
     "data": {
      "image/png": "[encoded data removed]",
      "text/plain": [
       "<Figure size 360x360 with 1 Axes>"
      ]
     },
     "metadata": {
      "needs_background": "light"
     },
     "output_type": "display_data"
    },
    {
     "data": {
      "image/png": "[encoded data removed]",
      "text/plain": [
       "<Figure size 360x360 with 1 Axes>"
      ]
     },
     "metadata": {
      "needs_background": "light"
     },
     "output_type": "display_data"
    },
    {
     "data": {
      "image/png": "[encoded data removed]",
      "text/plain": [
       "<Figure size 360x360 with 1 Axes>"
      ]
     },
     "metadata": {
      "needs_background": "light"
     },
     "output_type": "display_data"
    },
    {
     "data": {
      "image/png": "[encoded data removed]",
      "text/plain": [
       "<Figure size 360x360 with 1 Axes>"
      ]
     },
     "metadata": {
      "needs_background": "light"
     },
     "output_type": "display_data"
    }
   ],
   "source": [
    "# Box plots plots for Continous variables vs Fraud\n",
    "for feature in data.columns:\n",
    "    data_EDA=data.copy()\n",
    "    colors2 = [\"#8c6bc2\",\"#db5684\"]\n",
    "    sns.factorplot(y=feature, x=\"zeta_disease\", data=data_EDA, kind=\"box\", palette=colors2)\n",
    "    plt.xlabel('Zeta disease')\n",
    "    plt.xticks(rotation=90)\n",
    "    plt.ylabel(feature)\n",
    "    plt.title(feature)\n",
    "    plt.show()"
   ]
  },
  {
   "cell_type": "markdown",
   "id": "based-peeing",
   "metadata": {},
   "source": [
    "#### Insights of EDA:"
   ]
  },
  {
   "cell_type": "markdown",
   "id": "addressed-bristol",
   "metadata": {},
   "source": [
    "* There are all numeric variables as dependent variables. Not need encoding in preprocess of data.\n",
    "* The data is balanced.\n",
    "* Age, BMI, Weight are strongly co-related to Target variable.\n",
    "* There many outliers in Insulin test and Liver test variables. If the accuracy is less, we can delete outliers from these variables to increase accuracy as part of deep analysis."
   ]
  },
  {
   "cell_type": "markdown",
   "id": "champion-cruise",
   "metadata": {},
   "source": [
    "### Data preparation for Model Building"
   ]
  },
  {
   "cell_type": "code",
   "execution_count": 13,
   "id": "wrapped-highlight",
   "metadata": {},
   "outputs": [
    {
     "name": "stdout",
     "output_type": "stream",
     "text": [
      "(795, 8) (795,)\n"
     ]
    }
   ],
   "source": [
    "# Train test split\n",
    "x = pd.DataFrame.copy(data)\n",
    "y = x.pop('zeta_disease')\n",
    "print(x.shape, y.shape)"
   ]
  },
  {
   "cell_type": "code",
   "execution_count": 14,
   "id": "outer-animation",
   "metadata": {},
   "outputs": [],
   "source": [
    "for feature in x.columns:\n",
    "    std_scaler = StandardScaler()\n",
    "    x[feature] = std_scaler.fit_transform(x[feature].values.reshape(-1,1))"
   ]
  },
  {
   "cell_type": "code",
   "execution_count": 15,
   "id": "neutral-africa",
   "metadata": {},
   "outputs": [
    {
     "data": {
      "text/html": [
       "<div>\n",
       "<style scoped>\n",
       "    .dataframe tbody tr th:only-of-type {\n",
       "        vertical-align: middle;\n",
       "    }\n",
       "\n",
       "    .dataframe tbody tr th {\n",
       "        vertical-align: top;\n",
       "    }\n",
       "\n",
       "    .dataframe thead th {\n",
       "        text-align: right;\n",
       "    }\n",
       "</style>\n",
       "<table border=\"1\" class=\"dataframe\">\n",
       "  <thead>\n",
       "    <tr style=\"text-align: right;\">\n",
       "      <th></th>\n",
       "      <th>age</th>\n",
       "      <th>weight</th>\n",
       "      <th>bmi</th>\n",
       "      <th>blood_pressure</th>\n",
       "      <th>insulin_test</th>\n",
       "      <th>liver_stress_test</th>\n",
       "      <th>cardio_stress_test</th>\n",
       "      <th>years_smoking</th>\n",
       "    </tr>\n",
       "  </thead>\n",
       "  <tbody>\n",
       "    <tr>\n",
       "      <th>0</th>\n",
       "      <td>1.817705</td>\n",
       "      <td>0.524959</td>\n",
       "      <td>-0.599413</td>\n",
       "      <td>0.524003</td>\n",
       "      <td>-0.678519</td>\n",
       "      <td>2.759593</td>\n",
       "      <td>-1.413122</td>\n",
       "      <td>1.423717</td>\n",
       "    </tr>\n",
       "    <tr>\n",
       "      <th>1</th>\n",
       "      <td>-0.594126</td>\n",
       "      <td>-0.706606</td>\n",
       "      <td>0.732469</td>\n",
       "      <td>-0.078720</td>\n",
       "      <td>-0.117731</td>\n",
       "      <td>-0.451050</td>\n",
       "      <td>0.391562</td>\n",
       "      <td>-0.492651</td>\n",
       "    </tr>\n",
       "    <tr>\n",
       "      <th>2</th>\n",
       "      <td>1.273098</td>\n",
       "      <td>0.430223</td>\n",
       "      <td>-0.272284</td>\n",
       "      <td>1.026272</td>\n",
       "      <td>-0.678519</td>\n",
       "      <td>-0.778725</td>\n",
       "      <td>-1.413122</td>\n",
       "      <td>0.705079</td>\n",
       "    </tr>\n",
       "    <tr>\n",
       "      <th>3</th>\n",
       "      <td>-0.983131</td>\n",
       "      <td>-0.706606</td>\n",
       "      <td>-0.167136</td>\n",
       "      <td>0.021733</td>\n",
       "      <td>7.480544</td>\n",
       "      <td>0.333646</td>\n",
       "      <td>0.424374</td>\n",
       "      <td>-0.971743</td>\n",
       "    </tr>\n",
       "    <tr>\n",
       "      <th>4</th>\n",
       "      <td>-0.516325</td>\n",
       "      <td>-0.390820</td>\n",
       "      <td>0.019795</td>\n",
       "      <td>0.222641</td>\n",
       "      <td>0.308783</td>\n",
       "      <td>0.623955</td>\n",
       "      <td>0.522811</td>\n",
       "      <td>-0.492651</td>\n",
       "    </tr>\n",
       "    <tr>\n",
       "      <th>5</th>\n",
       "      <td>1.428700</td>\n",
       "      <td>-0.453977</td>\n",
       "      <td>-0.611096</td>\n",
       "      <td>0.524003</td>\n",
       "      <td>-0.678519</td>\n",
       "      <td>-0.637882</td>\n",
       "      <td>-1.413122</td>\n",
       "      <td>-0.492651</td>\n",
       "    </tr>\n",
       "    <tr>\n",
       "      <th>6</th>\n",
       "      <td>-0.827529</td>\n",
       "      <td>-0.580291</td>\n",
       "      <td>-0.517631</td>\n",
       "      <td>-0.279628</td>\n",
       "      <td>0.237698</td>\n",
       "      <td>-0.077385</td>\n",
       "      <td>0.325937</td>\n",
       "      <td>-0.971743</td>\n",
       "    </tr>\n",
       "    <tr>\n",
       "      <th>7</th>\n",
       "      <td>0.495088</td>\n",
       "      <td>-0.169770</td>\n",
       "      <td>0.265142</td>\n",
       "      <td>0.925818</td>\n",
       "      <td>0.466752</td>\n",
       "      <td>-0.223976</td>\n",
       "      <td>0.358749</td>\n",
       "      <td>-0.732197</td>\n",
       "    </tr>\n",
       "    <tr>\n",
       "      <th>8</th>\n",
       "      <td>-0.749728</td>\n",
       "      <td>-0.327663</td>\n",
       "      <td>0.300191</td>\n",
       "      <td>0.524003</td>\n",
       "      <td>0.364072</td>\n",
       "      <td>-0.758604</td>\n",
       "      <td>1.047810</td>\n",
       "      <td>-0.732197</td>\n",
       "    </tr>\n",
       "    <tr>\n",
       "      <th>9</th>\n",
       "      <td>-0.905330</td>\n",
       "      <td>0.430223</td>\n",
       "      <td>-0.120403</td>\n",
       "      <td>0.021733</td>\n",
       "      <td>-0.678519</td>\n",
       "      <td>2.015138</td>\n",
       "      <td>-1.413122</td>\n",
       "      <td>-0.013559</td>\n",
       "    </tr>\n",
       "  </tbody>\n",
       "</table>\n",
       "</div>"
      ],
      "text/plain": [
       "        age    weight       bmi  blood_pressure  insulin_test  \\\n",
       "0  1.817705  0.524959 -0.599413        0.524003     -0.678519   \n",
       "1 -0.594126 -0.706606  0.732469       -0.078720     -0.117731   \n",
       "2  1.273098  0.430223 -0.272284        1.026272     -0.678519   \n",
       "3 -0.983131 -0.706606 -0.167136        0.021733      7.480544   \n",
       "4 -0.516325 -0.390820  0.019795        0.222641      0.308783   \n",
       "5  1.428700 -0.453977 -0.611096        0.524003     -0.678519   \n",
       "6 -0.827529 -0.580291 -0.517631       -0.279628      0.237698   \n",
       "7  0.495088 -0.169770  0.265142        0.925818      0.466752   \n",
       "8 -0.749728 -0.327663  0.300191        0.524003      0.364072   \n",
       "9 -0.905330  0.430223 -0.120403        0.021733     -0.678519   \n",
       "\n",
       "   liver_stress_test  cardio_stress_test  years_smoking  \n",
       "0           2.759593           -1.413122       1.423717  \n",
       "1          -0.451050            0.391562      -0.492651  \n",
       "2          -0.778725           -1.413122       0.705079  \n",
       "3           0.333646            0.424374      -0.971743  \n",
       "4           0.623955            0.522811      -0.492651  \n",
       "5          -0.637882           -1.413122      -0.492651  \n",
       "6          -0.077385            0.325937      -0.971743  \n",
       "7          -0.223976            0.358749      -0.732197  \n",
       "8          -0.758604            1.047810      -0.732197  \n",
       "9           2.015138           -1.413122      -0.013559  "
      ]
     },
     "execution_count": 15,
     "metadata": {},
     "output_type": "execute_result"
    }
   ],
   "source": [
    "x.head(10)"
   ]
  },
  {
   "cell_type": "code",
   "execution_count": 16,
   "id": "qualified-observer",
   "metadata": {},
   "outputs": [
    {
     "data": {
      "text/html": [
       "<div>\n",
       "<style scoped>\n",
       "    .dataframe tbody tr th:only-of-type {\n",
       "        vertical-align: middle;\n",
       "    }\n",
       "\n",
       "    .dataframe tbody tr th {\n",
       "        vertical-align: top;\n",
       "    }\n",
       "\n",
       "    .dataframe thead th {\n",
       "        text-align: right;\n",
       "    }\n",
       "</style>\n",
       "<table border=\"1\" class=\"dataframe\">\n",
       "  <thead>\n",
       "    <tr style=\"text-align: right;\">\n",
       "      <th></th>\n",
       "      <th>zeta_disease</th>\n",
       "    </tr>\n",
       "  </thead>\n",
       "  <tbody>\n",
       "    <tr>\n",
       "      <th>0</th>\n",
       "      <td>0</td>\n",
       "    </tr>\n",
       "    <tr>\n",
       "      <th>1</th>\n",
       "      <td>0</td>\n",
       "    </tr>\n",
       "    <tr>\n",
       "      <th>2</th>\n",
       "      <td>0</td>\n",
       "    </tr>\n",
       "    <tr>\n",
       "      <th>3</th>\n",
       "      <td>0</td>\n",
       "    </tr>\n",
       "    <tr>\n",
       "      <th>4</th>\n",
       "      <td>0</td>\n",
       "    </tr>\n",
       "    <tr>\n",
       "      <th>5</th>\n",
       "      <td>1</td>\n",
       "    </tr>\n",
       "    <tr>\n",
       "      <th>6</th>\n",
       "      <td>0</td>\n",
       "    </tr>\n",
       "    <tr>\n",
       "      <th>7</th>\n",
       "      <td>1</td>\n",
       "    </tr>\n",
       "    <tr>\n",
       "      <th>8</th>\n",
       "      <td>0</td>\n",
       "    </tr>\n",
       "    <tr>\n",
       "      <th>9</th>\n",
       "      <td>1</td>\n",
       "    </tr>\n",
       "  </tbody>\n",
       "</table>\n",
       "</div>"
      ],
      "text/plain": [
       "   zeta_disease\n",
       "0             0\n",
       "1             0\n",
       "2             0\n",
       "3             0\n",
       "4             0\n",
       "5             1\n",
       "6             0\n",
       "7             1\n",
       "8             0\n",
       "9             1"
      ]
     },
     "execution_count": 16,
     "metadata": {},
     "output_type": "execute_result"
    }
   ],
   "source": [
    "y = pd.DataFrame(y)\n",
    "y.head(10)"
   ]
  },
  {
   "cell_type": "code",
   "execution_count": 17,
   "id": "understood-intellectual",
   "metadata": {},
   "outputs": [],
   "source": [
    "# Our data is already scaled we should split our training and test sets\n",
    "x_train, x_test, y_train, y_test = train_test_split(x, y, test_size=0.25,random_state =42)"
   ]
  },
  {
   "cell_type": "code",
   "execution_count": 18,
   "id": "foreign-stevens",
   "metadata": {},
   "outputs": [],
   "source": [
    "# Turn the values into an array for feeding the classification algorithms.\n",
    "x_train = x_train.values\n",
    "x_test = x_test.values\n",
    "y_train = y_train.values\n",
    "y_test = y_test.values"
   ]
  },
  {
   "cell_type": "markdown",
   "id": "aboriginal-disclaimer",
   "metadata": {},
   "source": [
    "### Model Building "
   ]
  },
  {
   "cell_type": "code",
   "execution_count": 19,
   "id": "creative-parent",
   "metadata": {},
   "outputs": [],
   "source": [
    "# Let's implement simple classifiers\n",
    "classifiers = {\n",
    "    \"LogisiticRegression\": LogisticRegression(),\n",
    "    \"KNearest\": KNeighborsClassifier(),\n",
    "    \"Naive & Bayes\" : GaussianNB(),\n",
    "    \"DecisionTreeClassifier\": DecisionTreeClassifier(),\n",
    "    \"RandomForestClassifier\": RandomForestClassifier(),\n",
    "    \"Support Vector Classifier\": SVC(),\n",
    "    \"Gradient Boosting classifier\": GradientBoostingClassifier()\n",
    "}"
   ]
  },
  {
   "cell_type": "code",
   "execution_count": 20,
   "id": "experienced-player",
   "metadata": {},
   "outputs": [
    {
     "name": "stdout",
     "output_type": "stream",
     "text": [
      "Classifier:  LogisticRegression has a training score of 77.0 % accuracy score\n",
      "Classifier:  KNeighborsClassifier has a training score of 72.0 % accuracy score\n",
      "Classifier:  GaussianNB has a training score of 76.0 % accuracy score\n",
      "Classifier:  DecisionTreeClassifier has a training score of 70.0 % accuracy score\n",
      "Classifier:  RandomForestClassifier has a training score of 78.0 % accuracy score\n",
      "Classifier:  SVC has a training score of 77.0 % accuracy score\n",
      "Classifier:  GradientBoostingClassifier has a training score of 76.0 % accuracy score\n"
     ]
    }
   ],
   "source": [
    "for key, classifier in classifiers.items():\n",
    "    classifier.fit(x_train, y_train)\n",
    "    training_score = cross_val_score(classifier, x_train, y_train, cv=10)\n",
    "    print(\"Classifier: \", classifier.__class__.__name__, \"has a training score of\", round(training_score.mean(), 2) * 100, \"% accuracy score\")\n"
   ]
  },
  {
   "cell_type": "code",
   "execution_count": 21,
   "id": "hybrid-treasury",
   "metadata": {},
   "outputs": [],
   "source": [
    "# Use GridSearchCV to find the best parameters.\n",
    "# Logistic Regression \n",
    "log_reg_params = {\"penalty\": ['l1', 'l2'], 'C': [0.001, 0.01, 0.1, 1, 10, 100, 1000]}\n",
    "grid_log_reg = GridSearchCV(LogisticRegression(), log_reg_params)\n",
    "grid_log_reg.fit(x_train, y_train)\n",
    "# We automatically get the logistic regression with the best parameters.\n",
    "log_reg = grid_log_reg.best_estimator_\n",
    "\n",
    "# KNN\n",
    "knears_params = {\"n_neighbors\": list(range(2,10,1)), 'algorithm': ['auto', 'ball_tree', 'kd_tree', 'brute']}\n",
    "grid_knears = GridSearchCV(KNeighborsClassifier(), knears_params)\n",
    "grid_knears.fit(x_train, y_train)\n",
    "# KNears best estimator\n",
    "knears_neighbors = grid_knears.best_estimator_\n",
    "\n",
    "# GNB\n",
    "gnb_params = {}\n",
    "grid_gnb = GridSearchCV(GaussianNB(), gnb_params)\n",
    "grid_gnb.fit(x_train, y_train)\n",
    "# GNB best estimator\n",
    "gnb = grid_gnb.best_estimator_\n",
    "\n",
    "# DecisionTree Classifier\n",
    "tree_params = {\"criterion\": [\"gini\", \"entropy\"],\"splitter\":[\"best\",\"random\"]}\n",
    "grid_tree = GridSearchCV(DecisionTreeClassifier(), tree_params)\n",
    "grid_tree.fit(x_train, y_train)\n",
    "# tree best estimator\n",
    "tree_clf = grid_tree.best_estimator_\n",
    "\n",
    "# RandomForest Classifier\n",
    "rfc_params = {\"n_estimators\":list(range(2,100,1)), \"criterion\":[\"gini\", \"entropy\"]}\n",
    "grid_rfc = GridSearchCV(RandomForestClassifier(), rfc_params)\n",
    "grid_rfc.fit(x_train, y_train)\n",
    "# tree best estimator\n",
    "rfc = grid_rfc.best_estimator_\n",
    "\n",
    "# Support Vector Classifier\n",
    "svc_params = {'C': [0.5, 0.7, 0.9, 1], 'kernel': ['rbf', 'poly', 'sigmoid', 'linear']}\n",
    "grid_svc = GridSearchCV(SVC(), svc_params)\n",
    "grid_svc.fit(x_train, y_train)\n",
    "# SVC best estimator\n",
    "svc = grid_svc.best_estimator_\n",
    "\n",
    "# Gradient Boosting Classifier\n",
    "gbc_params = {\"loss\":[\"deviance\", \"exponential\"], \"n_estimators\":list(range(2,100,1))}\n",
    "grid_gbc = GridSearchCV(GradientBoostingClassifier(), gbc_params)\n",
    "grid_gbc.fit(x_train, y_train)\n",
    "# tree best estimator\n",
    "gbc = grid_gbc.best_estimator_"
   ]
  },
  {
   "cell_type": "code",
   "execution_count": 22,
   "id": "psychological-manual",
   "metadata": {},
   "outputs": [
    {
     "name": "stdout",
     "output_type": "stream",
     "text": [
      "Logistic Regression Cross Validation Score:  77.69%\n",
      "Knears Neighbors Cross Validation Score 73.15%\n",
      "GuassianNB Cross Validation Score 75.83%\n",
      "DecisionTree Classifier Cross Validation Score 72.65%\n",
      "Random Forest Classifier Cross Validation Score 77.84%\n",
      "Support Vector Classifier Cross Validation Score 77.02%\n",
      "Gradient Boosting Classifier Cross Validation Score 78.01%\n"
     ]
    }
   ],
   "source": [
    "log_reg_score = cross_val_score(log_reg, x_train, y_train, cv=10)\n",
    "print('Logistic Regression Cross Validation Score: ', round(log_reg_score.mean() * 100, 2).astype(str) + '%')\n",
    "\n",
    "knears_score = cross_val_score(knears_neighbors, x_train, y_train, cv=10)\n",
    "print('Knears Neighbors Cross Validation Score', round(knears_score.mean() * 100, 2).astype(str) + '%')\n",
    "\n",
    "gnb_score = cross_val_score(gnb, x_train, y_train, cv=10)\n",
    "print('GuassianNB Cross Validation Score', round(gnb_score.mean() * 100, 2).astype(str) + '%')\n",
    "\n",
    "tree_score = cross_val_score(tree_clf, x_train, y_train, cv=10)\n",
    "print('DecisionTree Classifier Cross Validation Score', round(tree_score.mean() * 100, 2).astype(str) + '%')\n",
    "\n",
    "rfc_score = cross_val_score(rfc, x_train, y_train, cv=10)\n",
    "print('Random Forest Classifier Cross Validation Score', round(rfc_score.mean() * 100, 2).astype(str) + '%')\n",
    "\n",
    "svc_score = cross_val_score(svc, x_train, y_train, cv=10)\n",
    "print('Support Vector Classifier Cross Validation Score', round(svc_score.mean() * 100, 2).astype(str) + '%')\n",
    "\n",
    "gbc_score = cross_val_score(gbc, x_train, y_train, cv=10)\n",
    "print('Gradient Boosting Classifier Cross Validation Score', round(gbc_score.mean() * 100, 2).astype(str) + '%')"
   ]
  },
  {
   "cell_type": "code",
   "execution_count": 23,
   "id": "radio-auction",
   "metadata": {},
   "outputs": [
    {
     "data": {
      "text/plain": [
       "GradientBoostingClassifier(loss='exponential', n_estimators=19)"
      ]
     },
     "execution_count": 23,
     "metadata": {},
     "output_type": "execute_result"
    }
   ],
   "source": [
    "gbc"
   ]
  },
  {
   "cell_type": "code",
   "execution_count": 24,
   "id": "superb-amazon",
   "metadata": {},
   "outputs": [
    {
     "data": {
      "text/plain": [
       "0.8187919463087249"
      ]
     },
     "execution_count": 24,
     "metadata": {},
     "output_type": "execute_result"
    }
   ],
   "source": [
    "# building final model\n",
    "# Gradient Boosting Classifier\n",
    "gbc = GradientBoostingClassifier(loss='exponential', n_estimators=19)\n",
    "gbc.fit(x_train, y_train)\n",
    "y_prediction = gbc.predict(x_test)\n",
    "gbc.score(x_train, y_train)"
   ]
  },
  {
   "cell_type": "code",
   "execution_count": 26,
   "id": "fundamental-factory",
   "metadata": {},
   "outputs": [
    {
     "name": "stdout",
     "output_type": "stream",
     "text": [
      "1 %\n",
      "              precision    recall  f1-score   support\n",
      "\n",
      "           0       0.77      0.87      0.82       126\n",
      "           1       0.72      0.56      0.63        73\n",
      "\n",
      "    accuracy                           0.76       199\n",
      "   macro avg       0.75      0.72      0.73       199\n",
      "weighted avg       0.75      0.76      0.75       199\n",
      "\n",
      "0.7173298543161557\n"
     ]
    },
    {
     "data": {
      "image/png": "[encoded data removed]",
      "text/plain": [
       "<Figure size 792x648 with 1 Axes>"
      ]
     },
     "metadata": {
      "needs_background": "light"
     },
     "output_type": "display_data"
    },
    {
     "data": {
      "text/plain": [
       "<AxesSubplot:xlabel='feature'>"
      ]
     },
     "execution_count": 26,
     "metadata": {},
     "output_type": "execute_result"
    },
    {
     "data": {
      "image/png": "[encoded data removed]",
      "text/plain": [
       "<Figure size 432x288 with 2 Axes>"
      ]
     },
     "metadata": {
      "needs_background": "light"
     },
     "output_type": "display_data"
    },
    {
     "data": {
      "image/png": "[encoded data removed]",
      "text/plain": [
       "<Figure size 432x288 with 1 Axes>"
      ]
     },
     "metadata": {
      "needs_background": "light"
     },
     "output_type": "display_data"
    }
   ],
   "source": [
    "# 1) Accuracies \n",
    "acc_gbc = round(gbc.score(x_train, y_train) * 100, 2)\n",
    "#print(round(acc_rfc,2,), \"%\")\n",
    "\n",
    "acc_cv_gbc = cross_val_score(gbc, x_train, y_train, cv=10)\n",
    "print(round(acc_cv_gbc.mean()), \"%\")\n",
    "      \n",
    "# 2) classification report\n",
    "print(classification_report(y_test,y_prediction))\n",
    "\n",
    "# 3)Area Under the curve\n",
    "FPR, TPR, _ = roc_curve(y_test, y_prediction)\n",
    "ROC_AUC = auc(FPR, TPR)\n",
    "print (ROC_AUC)\n",
    "\n",
    "#plot ROC_AUC\n",
    "plt.figure(figsize =[11,9])\n",
    "plt.plot(FPR, TPR, label= 'ROC curve(area = %0.2f)'%ROC_AUC, linewidth= 4)\n",
    "plt.plot([0,1],[0,1], 'k--', linewidth = 4)\n",
    "plt.xlim([0.0,1.0])\n",
    "plt.ylim([0.0,1.05])\n",
    "plt.xlabel('False Positive Rate', fontsize = 18)\n",
    "plt.ylabel('True Positive Rate', fontsize = 18)\n",
    "plt.title('ROC for Loan Approvals', fontsize= 18)\n",
    "plt.show()\n",
    "\n",
    "# 4) Confusion matrix and plot\n",
    "confusion_matrix = confusion_matrix(y_test, y_prediction)\n",
    "cm_matrix = pd.DataFrame(data=confusion_matrix, columns=['Actual Negative:0', 'Actual Positive:1'], \n",
    "                                 index=['Predict Negative:0', 'Predict Positive:1'])\n",
    "sns.heatmap(cm_matrix, annot=True, fmt='d', cmap='YlGnBu')\n",
    "\n",
    "# Feature Importance\n",
    "importances = pd.DataFrame({'feature':x.columns,'importance':np.round(gbc.feature_importances_,3)})\n",
    "importances = importances.sort_values('importance',ascending=False).set_index('feature')\n",
    "importances.head(15)\n",
    "\n",
    "#plot \n",
    "importances.plot.bar()"
   ]
  },
  {
   "cell_type": "markdown",
   "id": "active-alcohol",
   "metadata": {},
   "source": [
    "### Building Simple ANN model"
   ]
  },
  {
   "cell_type": "code",
   "execution_count": 27,
   "id": "killing-easter",
   "metadata": {},
   "outputs": [],
   "source": [
    "import keras\n",
    "from keras.models import Sequential\n",
    "from keras.layers import Dense, Dropout"
   ]
  },
  {
   "cell_type": "code",
   "execution_count": 28,
   "id": "mature-costs",
   "metadata": {},
   "outputs": [],
   "source": [
    "# Initialising the ANN \n",
    "classifier = Sequential() \n",
    "\n",
    "classifier.add(Dense(units = 16, kernel_initializer = 'uniform', activation = 'relu', input_dim = 8))\n",
    "classifier.add(Dense(units = 8, kernel_initializer = 'uniform', activation = 'relu'))\n",
    "classifier.add(Dense(units = 6, kernel_initializer = 'uniform', activation = 'relu'))\n",
    "classifier.add(Dense(units = 1, kernel_initializer = 'uniform', activation = 'sigmoid'))\n",
    "\n",
    "# Compiling the ANN\n",
    "classifier.compile(optimizer='adam', loss='binary_crossentropy', metrics=['accuracy'])"
   ]
  },
  {
   "cell_type": "code",
   "execution_count": 29,
   "id": "spread-environment",
   "metadata": {},
   "outputs": [
    {
     "name": "stdout",
     "output_type": "stream",
     "text": [
      "Epoch 1/200\n",
      "596/596 [==============================] - 13s 627us/step - loss: 0.6506 - accuracy: 0.6508\n",
      "Epoch 2/200\n",
      "596/596 [==============================] - 0s 784us/step - loss: 0.5234 - accuracy: 0.7422\n",
      "Epoch 3/200\n",
      "596/596 [==============================] - 1s 867us/step - loss: 0.4466 - accuracy: 0.7876\n",
      "Epoch 4/200\n",
      "596/596 [==============================] - 1s 864us/step - loss: 0.4644 - accuracy: 0.7605\n",
      "Epoch 5/200\n",
      "596/596 [==============================] - 1s 874us/step - loss: 0.4308 - accuracy: 0.7830\n",
      "Epoch 6/200\n",
      "596/596 [==============================] - 1s 939us/step - loss: 0.4347 - accuracy: 0.7843\n",
      "Epoch 7/200\n",
      "596/596 [==============================] - 1s 845us/step - loss: 0.4233 - accuracy: 0.7984\n",
      "Epoch 8/200\n",
      "596/596 [==============================] - 1s 887us/step - loss: 0.4357 - accuracy: 0.7776\n",
      "Epoch 9/200\n",
      "596/596 [==============================] - 1s 913us/step - loss: 0.3986 - accuracy: 0.81740s - loss: 0.3282 - \n",
      "Epoch 10/200\n",
      "596/596 [==============================] - 1s 905us/step - loss: 0.4348 - accuracy: 0.7975\n",
      "Epoch 11/200\n",
      "596/596 [==============================] - 1s 913us/step - loss: 0.4220 - accuracy: 0.7807\n",
      "Epoch 12/200\n",
      "596/596 [==============================] - 1s 919us/step - loss: 0.4336 - accuracy: 0.7943\n",
      "Epoch 13/200\n",
      "596/596 [==============================] - 1s 1ms/step - loss: 0.3980 - accuracy: 0.8049\n",
      "Epoch 14/200\n",
      "596/596 [==============================] - 1s 1ms/step - loss: 0.4186 - accuracy: 0.7915\n",
      "Epoch 15/200\n",
      "596/596 [==============================] - 1s 969us/step - loss: 0.4600 - accuracy: 0.76590s - loss: 0.4615 - ac\n",
      "Epoch 16/200\n",
      "596/596 [==============================] - 1s 872us/step - loss: 0.4359 - accuracy: 0.7738\n",
      "Epoch 17/200\n",
      "596/596 [==============================] - 1s 915us/step - loss: 0.4158 - accuracy: 0.7794\n",
      "Epoch 18/200\n",
      "596/596 [==============================] - 1s 925us/step - loss: 0.4424 - accuracy: 0.7517\n",
      "Epoch 19/200\n",
      "596/596 [==============================] - 1s 899us/step - loss: 0.4123 - accuracy: 0.7914\n",
      "Epoch 20/200\n",
      "596/596 [==============================] - 1s 937us/step - loss: 0.4228 - accuracy: 0.8061\n",
      "Epoch 21/200\n",
      "596/596 [==============================] - 1s 909us/step - loss: 0.4375 - accuracy: 0.7967\n",
      "Epoch 22/200\n",
      "596/596 [==============================] - 1s 939us/step - loss: 0.4232 - accuracy: 0.7977\n",
      "Epoch 23/200\n",
      "596/596 [==============================] - 1s 936us/step - loss: 0.4372 - accuracy: 0.7725\n",
      "Epoch 24/200\n",
      "596/596 [==============================] - 1s 908us/step - loss: 0.4128 - accuracy: 0.7773\n",
      "Epoch 25/200\n",
      "596/596 [==============================] - 1s 906us/step - loss: 0.4112 - accuracy: 0.8031\n",
      "Epoch 26/200\n",
      "596/596 [==============================] - 1s 913us/step - loss: 0.4408 - accuracy: 0.7781\n",
      "Epoch 27/200\n",
      "596/596 [==============================] - 1s 897us/step - loss: 0.4366 - accuracy: 0.7607\n",
      "Epoch 28/200\n",
      "596/596 [==============================] - 1s 937us/step - loss: 0.4248 - accuracy: 0.7783\n",
      "Epoch 29/200\n",
      "596/596 [==============================] - 1s 919us/step - loss: 0.4347 - accuracy: 0.7771\n",
      "Epoch 30/200\n",
      "596/596 [==============================] - 1s 1ms/step - loss: 0.3922 - accuracy: 0.7986\n",
      "Epoch 31/200\n",
      "596/596 [==============================] - 1s 917us/step - loss: 0.3964 - accuracy: 0.8023\n",
      "Epoch 32/200\n",
      "596/596 [==============================] - 1s 897us/step - loss: 0.4090 - accuracy: 0.8251\n",
      "Epoch 33/200\n",
      "596/596 [==============================] - 1s 911us/step - loss: 0.4230 - accuracy: 0.8164\n",
      "Epoch 34/200\n",
      "596/596 [==============================] - 1s 896us/step - loss: 0.4392 - accuracy: 0.7849\n",
      "Epoch 35/200\n",
      "596/596 [==============================] - 1s 891us/step - loss: 0.4000 - accuracy: 0.8053\n",
      "Epoch 36/200\n",
      "596/596 [==============================] - 1s 880us/step - loss: 0.4137 - accuracy: 0.8049\n",
      "Epoch 37/200\n",
      "596/596 [==============================] - 1s 976us/step - loss: 0.3911 - accuracy: 0.8158\n",
      "Epoch 38/200\n",
      "596/596 [==============================] - 1s 911us/step - loss: 0.4026 - accuracy: 0.8011\n",
      "Epoch 39/200\n",
      "596/596 [==============================] - 1s 919us/step - loss: 0.4291 - accuracy: 0.7806\n",
      "Epoch 40/200\n",
      "596/596 [==============================] - 1s 929us/step - loss: 0.4076 - accuracy: 0.8052\n",
      "Epoch 41/200\n",
      "596/596 [==============================] - 1s 940us/step - loss: 0.4176 - accuracy: 0.8097\n",
      "Epoch 42/200\n",
      "596/596 [==============================] - 1s 946us/step - loss: 0.4165 - accuracy: 0.8003\n",
      "Epoch 43/200\n",
      "596/596 [==============================] - 1s 1ms/step - loss: 0.4489 - accuracy: 0.7628\n",
      "Epoch 44/200\n",
      "596/596 [==============================] - 0s 804us/step - loss: 0.4063 - accuracy: 0.8086\n",
      "Epoch 45/200\n",
      "596/596 [==============================] - 0s 790us/step - loss: 0.4297 - accuracy: 0.7807\n",
      "Epoch 46/200\n",
      "596/596 [==============================] - 0s 784us/step - loss: 0.4252 - accuracy: 0.7880\n",
      "Epoch 47/200\n",
      "596/596 [==============================] - 1s 1ms/step - loss: 0.3937 - accuracy: 0.7890\n",
      "Epoch 48/200\n",
      "596/596 [==============================] - 1s 1ms/step - loss: 0.3883 - accuracy: 0.7928\n",
      "Epoch 49/200\n",
      "596/596 [==============================] - 1s 882us/step - loss: 0.4473 - accuracy: 0.7835\n",
      "Epoch 50/200\n",
      "596/596 [==============================] - 1s 853us/step - loss: 0.4292 - accuracy: 0.7601\n",
      "Epoch 51/200\n",
      "596/596 [==============================] - 1s 911us/step - loss: 0.4078 - accuracy: 0.7963\n",
      "Epoch 52/200\n",
      "596/596 [==============================] - 1s 878us/step - loss: 0.3874 - accuracy: 0.8008\n",
      "Epoch 53/200\n",
      "596/596 [==============================] - 0s 800us/step - loss: 0.4015 - accuracy: 0.8148\n",
      "Epoch 54/200\n",
      "596/596 [==============================] - 0s 798us/step - loss: 0.4347 - accuracy: 0.7806\n",
      "Epoch 55/200\n",
      "596/596 [==============================] - 1s 901us/step - loss: 0.4160 - accuracy: 0.7989\n",
      "Epoch 56/200\n",
      "596/596 [==============================] - 1s 988us/step - loss: 0.4433 - accuracy: 0.7565\n",
      "Epoch 57/200\n",
      "596/596 [==============================] - 0s 835us/step - loss: 0.4243 - accuracy: 0.7826\n",
      "Epoch 58/200\n",
      "596/596 [==============================] - 0s 772us/step - loss: 0.3740 - accuracy: 0.8260\n",
      "Epoch 59/200\n",
      "596/596 [==============================] - 0s 747us/step - loss: 0.3871 - accuracy: 0.8268\n",
      "Epoch 60/200\n",
      "596/596 [==============================] - 0s 819us/step - loss: 0.4031 - accuracy: 0.7988\n",
      "Epoch 61/200\n",
      "596/596 [==============================] - 0s 771us/step - loss: 0.3905 - accuracy: 0.8160\n",
      "Epoch 62/200\n",
      "596/596 [==============================] - 0s 767us/step - loss: 0.4070 - accuracy: 0.8040\n",
      "Epoch 63/200\n",
      "596/596 [==============================] - 0s 776us/step - loss: 0.3943 - accuracy: 0.8228\n",
      "Epoch 64/200\n",
      "596/596 [==============================] - 0s 783us/step - loss: 0.4139 - accuracy: 0.7999\n",
      "Epoch 65/200\n",
      "596/596 [==============================] - 0s 778us/step - loss: 0.3767 - accuracy: 0.8316\n",
      "Epoch 66/200\n",
      "596/596 [==============================] - 0s 772us/step - loss: 0.3880 - accuracy: 0.8280\n",
      "Epoch 67/200\n",
      "596/596 [==============================] - 0s 769us/step - loss: 0.3847 - accuracy: 0.8405\n",
      "Epoch 68/200\n",
      "596/596 [==============================] - 0s 735us/step - loss: 0.3932 - accuracy: 0.8147\n",
      "Epoch 69/200\n",
      "596/596 [==============================] - 0s 771us/step - loss: 0.3950 - accuracy: 0.8231\n",
      "Epoch 70/200\n",
      "596/596 [==============================] - 0s 776us/step - loss: 0.3920 - accuracy: 0.7981\n",
      "Epoch 71/200\n",
      "596/596 [==============================] - 0s 767us/step - loss: 0.4168 - accuracy: 0.7876\n",
      "Epoch 72/200\n",
      "596/596 [==============================] - 0s 757us/step - loss: 0.4184 - accuracy: 0.8090\n",
      "Epoch 73/200\n",
      "596/596 [==============================] - 0s 752us/step - loss: 0.3984 - accuracy: 0.8159\n",
      "Epoch 74/200\n",
      "596/596 [==============================] - 0s 749us/step - loss: 0.4325 - accuracy: 0.7996\n",
      "Epoch 75/200\n",
      "596/596 [==============================] - 0s 738us/step - loss: 0.3440 - accuracy: 0.8445\n",
      "Epoch 76/200\n",
      "596/596 [==============================] - 0s 749us/step - loss: 0.3641 - accuracy: 0.8590\n",
      "Epoch 77/200\n",
      "596/596 [==============================] - 0s 732us/step - loss: 0.3489 - accuracy: 0.8419\n",
      "Epoch 78/200\n",
      "596/596 [==============================] - 0s 773us/step - loss: 0.3725 - accuracy: 0.8221\n",
      "Epoch 79/200\n",
      "596/596 [==============================] - 0s 759us/step - loss: 0.3547 - accuracy: 0.8208\n",
      "Epoch 80/200\n",
      "596/596 [==============================] - 0s 760us/step - loss: 0.3921 - accuracy: 0.8036\n",
      "Epoch 81/200\n",
      "596/596 [==============================] - 0s 761us/step - loss: 0.3686 - accuracy: 0.8131\n",
      "Epoch 82/200\n",
      "596/596 [==============================] - 0s 748us/step - loss: 0.3726 - accuracy: 0.8268\n",
      "Epoch 83/200\n",
      "596/596 [==============================] - 0s 763us/step - loss: 0.3945 - accuracy: 0.8061\n",
      "Epoch 84/200\n",
      "596/596 [==============================] - 0s 756us/step - loss: 0.3912 - accuracy: 0.8105\n",
      "Epoch 85/200\n",
      "596/596 [==============================] - 0s 749us/step - loss: 0.3691 - accuracy: 0.8274\n",
      "Epoch 86/200\n",
      "596/596 [==============================] - 0s 762us/step - loss: 0.3850 - accuracy: 0.8184\n",
      "Epoch 87/200\n",
      "596/596 [==============================] - 0s 788us/step - loss: 0.4016 - accuracy: 0.8107\n",
      "Epoch 88/200\n",
      "596/596 [==============================] - 0s 793us/step - loss: 0.3596 - accuracy: 0.8452\n",
      "Epoch 89/200\n",
      "596/596 [==============================] - 0s 790us/step - loss: 0.3526 - accuracy: 0.8234\n",
      "Epoch 90/200\n",
      "596/596 [==============================] - 0s 745us/step - loss: 0.3871 - accuracy: 0.8198\n",
      "Epoch 91/200\n",
      "596/596 [==============================] - 0s 771us/step - loss: 0.3794 - accuracy: 0.8308\n",
      "Epoch 92/200\n",
      "596/596 [==============================] - 0s 751us/step - loss: 0.4137 - accuracy: 0.7936\n",
      "Epoch 93/200\n",
      "596/596 [==============================] - 0s 754us/step - loss: 0.3450 - accuracy: 0.8244\n",
      "Epoch 94/200\n",
      "596/596 [==============================] - 0s 769us/step - loss: 0.3381 - accuracy: 0.8391\n",
      "Epoch 95/200\n",
      "596/596 [==============================] - 0s 756us/step - loss: 0.3957 - accuracy: 0.8217\n",
      "Epoch 96/200\n",
      "596/596 [==============================] - 0s 749us/step - loss: 0.3763 - accuracy: 0.8076\n",
      "Epoch 97/200\n",
      "596/596 [==============================] - 0s 757us/step - loss: 0.3904 - accuracy: 0.8204\n",
      "Epoch 98/200\n",
      "596/596 [==============================] - 0s 759us/step - loss: 0.3956 - accuracy: 0.8068\n",
      "Epoch 99/200\n",
      "596/596 [==============================] - 0s 750us/step - loss: 0.3405 - accuracy: 0.8191\n",
      "Epoch 100/200\n",
      "596/596 [==============================] - 0s 774us/step - loss: 0.3403 - accuracy: 0.8343\n",
      "Epoch 101/200\n",
      "596/596 [==============================] - 0s 763us/step - loss: 0.3639 - accuracy: 0.8204\n",
      "Epoch 102/200\n",
      "596/596 [==============================] - 0s 765us/step - loss: 0.3654 - accuracy: 0.8069\n",
      "Epoch 103/200\n",
      "596/596 [==============================] - 0s 767us/step - loss: 0.3799 - accuracy: 0.7862\n",
      "Epoch 104/200\n",
      "596/596 [==============================] - 0s 800us/step - loss: 0.3126 - accuracy: 0.8632\n",
      "Epoch 105/200\n",
      "596/596 [==============================] - 0s 794us/step - loss: 0.3627 - accuracy: 0.8346\n",
      "Epoch 106/200\n",
      "596/596 [==============================] - 0s 814us/step - loss: 0.3539 - accuracy: 0.8345\n",
      "Epoch 107/200\n",
      "596/596 [==============================] - 0s 785us/step - loss: 0.3675 - accuracy: 0.8147\n",
      "Epoch 108/200\n",
      "596/596 [==============================] - 0s 794us/step - loss: 0.3708 - accuracy: 0.8098\n",
      "Epoch 109/200\n",
      "596/596 [==============================] - 0s 780us/step - loss: 0.3510 - accuracy: 0.8339\n",
      "Epoch 110/200\n",
      "596/596 [==============================] - 0s 752us/step - loss: 0.3553 - accuracy: 0.8083\n",
      "Epoch 111/200\n",
      "596/596 [==============================] - 0s 765us/step - loss: 0.3775 - accuracy: 0.8127\n",
      "Epoch 112/200\n",
      "596/596 [==============================] - 0s 765us/step - loss: 0.3247 - accuracy: 0.8470\n",
      "Epoch 113/200\n",
      "596/596 [==============================] - 0s 798us/step - loss: 0.3543 - accuracy: 0.8142\n",
      "Epoch 114/200\n",
      "596/596 [==============================] - 0s 765us/step - loss: 0.3721 - accuracy: 0.8271\n",
      "Epoch 115/200\n",
      "596/596 [==============================] - 0s 800us/step - loss: 0.3437 - accuracy: 0.8258\n",
      "Epoch 116/200\n",
      "596/596 [==============================] - 0s 738us/step - loss: 0.3474 - accuracy: 0.8212\n",
      "Epoch 117/200\n",
      "596/596 [==============================] - 0s 772us/step - loss: 0.3295 - accuracy: 0.8525\n",
      "Epoch 118/200\n",
      "596/596 [==============================] - 0s 738us/step - loss: 0.3256 - accuracy: 0.8424\n",
      "Epoch 119/200\n",
      "596/596 [==============================] - 0s 748us/step - loss: 0.3719 - accuracy: 0.8301\n",
      "Epoch 120/200\n",
      "596/596 [==============================] - 0s 792us/step - loss: 0.3653 - accuracy: 0.8178\n",
      "Epoch 121/200\n",
      "596/596 [==============================] - 0s 810us/step - loss: 0.3120 - accuracy: 0.8645\n",
      "Epoch 122/200\n",
      "596/596 [==============================] - 0s 775us/step - loss: 0.3233 - accuracy: 0.8246\n",
      "Epoch 123/200\n",
      "596/596 [==============================] - 0s 772us/step - loss: 0.3025 - accuracy: 0.8656\n",
      "Epoch 124/200\n",
      "596/596 [==============================] - 1s 862us/step - loss: 0.3371 - accuracy: 0.8614\n",
      "Epoch 125/200\n",
      "596/596 [==============================] - 0s 833us/step - loss: 0.3325 - accuracy: 0.8486\n",
      "Epoch 126/200\n",
      "596/596 [==============================] - 0s 783us/step - loss: 0.3433 - accuracy: 0.8377\n",
      "Epoch 127/200\n",
      "596/596 [==============================] - 0s 807us/step - loss: 0.3399 - accuracy: 0.8505\n",
      "Epoch 128/200\n",
      "596/596 [==============================] - 0s 771us/step - loss: 0.3218 - accuracy: 0.8330\n",
      "Epoch 129/200\n",
      "596/596 [==============================] - 0s 758us/step - loss: 0.3344 - accuracy: 0.8586\n",
      "Epoch 130/200\n",
      "596/596 [==============================] - 0s 763us/step - loss: 0.3388 - accuracy: 0.8504\n",
      "Epoch 131/200\n",
      "596/596 [==============================] - 0s 756us/step - loss: 0.3080 - accuracy: 0.8652\n",
      "Epoch 132/200\n",
      "596/596 [==============================] - 0s 764us/step - loss: 0.3236 - accuracy: 0.8504\n",
      "Epoch 133/200\n",
      "596/596 [==============================] - 0s 746us/step - loss: 0.3520 - accuracy: 0.8304\n",
      "Epoch 134/200\n",
      "596/596 [==============================] - 0s 754us/step - loss: 0.3517 - accuracy: 0.8587\n",
      "Epoch 135/200\n",
      "596/596 [==============================] - 0s 749us/step - loss: 0.3380 - accuracy: 0.8396\n",
      "Epoch 136/200\n",
      "596/596 [==============================] - 0s 803us/step - loss: 0.3018 - accuracy: 0.8543\n",
      "Epoch 137/200\n",
      "596/596 [==============================] - 0s 763us/step - loss: 0.3202 - accuracy: 0.8454\n",
      "Epoch 138/200\n",
      "596/596 [==============================] - 0s 786us/step - loss: 0.3131 - accuracy: 0.8391\n",
      "Epoch 139/200\n",
      "596/596 [==============================] - 0s 773us/step - loss: 0.2895 - accuracy: 0.8659\n",
      "Epoch 140/200\n",
      "596/596 [==============================] - 0s 787us/step - loss: 0.3277 - accuracy: 0.8695\n",
      "Epoch 141/200\n",
      "596/596 [==============================] - 0s 777us/step - loss: 0.3251 - accuracy: 0.8529\n",
      "Epoch 142/200\n",
      "596/596 [==============================] - 0s 786us/step - loss: 0.3007 - accuracy: 0.8628\n",
      "Epoch 143/200\n",
      "596/596 [==============================] - 0s 795us/step - loss: 0.3116 - accuracy: 0.8416\n",
      "Epoch 144/200\n",
      "596/596 [==============================] - 0s 788us/step - loss: 0.3071 - accuracy: 0.8561\n",
      "Epoch 145/200\n",
      "596/596 [==============================] - 0s 789us/step - loss: 0.3769 - accuracy: 0.8160\n",
      "Epoch 146/200\n",
      "596/596 [==============================] - 0s 789us/step - loss: 0.3366 - accuracy: 0.8339\n",
      "Epoch 147/200\n",
      "596/596 [==============================] - 0s 775us/step - loss: 0.3206 - accuracy: 0.8411\n",
      "Epoch 148/200\n",
      "596/596 [==============================] - 0s 770us/step - loss: 0.3589 - accuracy: 0.8394\n",
      "Epoch 149/200\n",
      "596/596 [==============================] - 0s 754us/step - loss: 0.3032 - accuracy: 0.8435\n",
      "Epoch 150/200\n",
      "596/596 [==============================] - 0s 737us/step - loss: 0.3109 - accuracy: 0.8646\n",
      "Epoch 151/200\n",
      "596/596 [==============================] - 0s 758us/step - loss: 0.3563 - accuracy: 0.8422\n",
      "Epoch 152/200\n",
      "596/596 [==============================] - 0s 726us/step - loss: 0.3594 - accuracy: 0.8176\n",
      "Epoch 153/200\n",
      "596/596 [==============================] - 0s 753us/step - loss: 0.3092 - accuracy: 0.8555\n",
      "Epoch 154/200\n",
      "596/596 [==============================] - 0s 763us/step - loss: 0.3165 - accuracy: 0.8566\n",
      "Epoch 155/200\n",
      "596/596 [==============================] - 0s 741us/step - loss: 0.3122 - accuracy: 0.8445\n",
      "Epoch 156/200\n",
      "596/596 [==============================] - 0s 750us/step - loss: 0.2905 - accuracy: 0.8760\n",
      "Epoch 157/200\n"
     ]
    },
    {
     "name": "stdout",
     "output_type": "stream",
     "text": [
      "596/596 [==============================] - 0s 771us/step - loss: 0.2837 - accuracy: 0.8808\n",
      "Epoch 158/200\n",
      "596/596 [==============================] - 0s 750us/step - loss: 0.3266 - accuracy: 0.8367\n",
      "Epoch 159/200\n",
      "596/596 [==============================] - 0s 779us/step - loss: 0.3522 - accuracy: 0.8280\n",
      "Epoch 160/200\n",
      "596/596 [==============================] - 0s 740us/step - loss: 0.2722 - accuracy: 0.8901\n",
      "Epoch 161/200\n",
      "596/596 [==============================] - 0s 783us/step - loss: 0.3454 - accuracy: 0.8488\n",
      "Epoch 162/200\n",
      "596/596 [==============================] - 0s 792us/step - loss: 0.3191 - accuracy: 0.8403\n",
      "Epoch 163/200\n",
      "596/596 [==============================] - 0s 808us/step - loss: 0.2915 - accuracy: 0.8572\n",
      "Epoch 164/200\n",
      "596/596 [==============================] - 0s 801us/step - loss: 0.2824 - accuracy: 0.8707\n",
      "Epoch 165/200\n",
      "596/596 [==============================] - 0s 792us/step - loss: 0.2989 - accuracy: 0.8617\n",
      "Epoch 166/200\n",
      "596/596 [==============================] - 0s 778us/step - loss: 0.2916 - accuracy: 0.8650\n",
      "Epoch 167/200\n",
      "596/596 [==============================] - 0s 734us/step - loss: 0.3100 - accuracy: 0.8602\n",
      "Epoch 168/200\n",
      "596/596 [==============================] - 0s 770us/step - loss: 0.2894 - accuracy: 0.8716\n",
      "Epoch 169/200\n",
      "596/596 [==============================] - 1s 885us/step - loss: 0.2973 - accuracy: 0.8607\n",
      "Epoch 170/200\n",
      "596/596 [==============================] - 1s 1ms/step - loss: 0.3463 - accuracy: 0.8286\n",
      "Epoch 171/200\n",
      "596/596 [==============================] - 1s 1ms/step - loss: 0.3264 - accuracy: 0.8228\n",
      "Epoch 172/200\n",
      "596/596 [==============================] - 1s 971us/step - loss: 0.3384 - accuracy: 0.8372\n",
      "Epoch 173/200\n",
      "596/596 [==============================] - 1s 877us/step - loss: 0.3313 - accuracy: 0.8495\n",
      "Epoch 174/200\n",
      "596/596 [==============================] - 1s 843us/step - loss: 0.3340 - accuracy: 0.8716\n",
      "Epoch 175/200\n",
      "596/596 [==============================] - 0s 835us/step - loss: 0.3183 - accuracy: 0.8502\n",
      "Epoch 176/200\n",
      "596/596 [==============================] - 1s 955us/step - loss: 0.2700 - accuracy: 0.8722\n",
      "Epoch 177/200\n",
      "596/596 [==============================] - 1s 884us/step - loss: 0.3079 - accuracy: 0.8509\n",
      "Epoch 178/200\n",
      "596/596 [==============================] - 1s 1ms/step - loss: 0.3931 - accuracy: 0.8096\n",
      "Epoch 179/200\n",
      "596/596 [==============================] - 1s 922us/step - loss: 0.2983 - accuracy: 0.8645\n",
      "Epoch 180/200\n",
      "596/596 [==============================] - 1s 901us/step - loss: 0.3202 - accuracy: 0.8590\n",
      "Epoch 181/200\n",
      "596/596 [==============================] - 1s 1ms/step - loss: 0.2768 - accuracy: 0.8798\n",
      "Epoch 182/200\n",
      "596/596 [==============================] - 1s 974us/step - loss: 0.2858 - accuracy: 0.8538\n",
      "Epoch 183/200\n",
      "596/596 [==============================] - 1s 1ms/step - loss: 0.3053 - accuracy: 0.8286\n",
      "Epoch 184/200\n",
      "596/596 [==============================] - 1s 857us/step - loss: 0.2818 - accuracy: 0.8784\n",
      "Epoch 185/200\n",
      "596/596 [==============================] - 1s 1ms/step - loss: 0.2878 - accuracy: 0.8689\n",
      "Epoch 186/200\n",
      "596/596 [==============================] - 1s 895us/step - loss: 0.3007 - accuracy: 0.8571\n",
      "Epoch 187/200\n",
      "596/596 [==============================] - 1s 889us/step - loss: 0.3113 - accuracy: 0.8432\n",
      "Epoch 188/200\n",
      "596/596 [==============================] - 1s 879us/step - loss: 0.2794 - accuracy: 0.8683\n",
      "Epoch 189/200\n",
      "596/596 [==============================] - 1s 963us/step - loss: 0.3078 - accuracy: 0.8438\n",
      "Epoch 190/200\n",
      "596/596 [==============================] - 1s 907us/step - loss: 0.3216 - accuracy: 0.8543\n",
      "Epoch 191/200\n",
      "596/596 [==============================] - 1s 903us/step - loss: 0.2773 - accuracy: 0.8573\n",
      "Epoch 192/200\n",
      "596/596 [==============================] - 1s 911us/step - loss: 0.3261 - accuracy: 0.8405\n",
      "Epoch 193/200\n",
      "596/596 [==============================] - 1s 935us/step - loss: 0.3041 - accuracy: 0.8659\n",
      "Epoch 194/200\n",
      "596/596 [==============================] - 1s 894us/step - loss: 0.2774 - accuracy: 0.8717\n",
      "Epoch 195/200\n",
      "596/596 [==============================] - 1s 844us/step - loss: 0.2962 - accuracy: 0.8595\n",
      "Epoch 196/200\n",
      "596/596 [==============================] - 1s 879us/step - loss: 0.3023 - accuracy: 0.8629\n",
      "Epoch 197/200\n",
      "596/596 [==============================] - 1s 861us/step - loss: 0.3141 - accuracy: 0.86130s - loss: 0.3590 \n",
      "Epoch 198/200\n",
      "596/596 [==============================] - 1s 841us/step - loss: 0.2929 - accuracy: 0.8686\n",
      "Epoch 199/200\n",
      "596/596 [==============================] - 1s 847us/step - loss: 0.2845 - accuracy: 0.8573\n",
      "Epoch 200/200\n",
      "596/596 [==============================] - 1s 840us/step - loss: 0.2862 - accuracy: 0.8729\n"
     ]
    },
    {
     "data": {
      "text/plain": [
       "<keras.callbacks.History at 0x24331eb5588>"
      ]
     },
     "execution_count": 29,
     "metadata": {},
     "output_type": "execute_result"
    }
   ],
   "source": [
    "classifier.fit(x_train, y_train, batch_size = 1, epochs = 200)"
   ]
  },
  {
   "cell_type": "code",
   "execution_count": 31,
   "id": "ecological-component",
   "metadata": {},
   "outputs": [
    {
     "name": "stdout",
     "output_type": "stream",
     "text": [
      "Our accuracy is 81.71428571428572%\n"
     ]
    },
    {
     "data": {
      "text/plain": [
       "<AxesSubplot:>"
      ]
     },
     "execution_count": 31,
     "metadata": {},
     "output_type": "execute_result"
    },
    {
     "data": {
      "image/png": "[encoded data removed]",
      "text/plain": [
       "<Figure size 432x288 with 2 Axes>"
      ]
     },
     "metadata": {
      "needs_background": "light"
     },
     "output_type": "display_data"
    }
   ],
   "source": [
    "from sklearn.metrics import confusion_matrix\n",
    "\n",
    "y_pred = classifier.predict(x_test)\n",
    "y_pred = [ 1 if y>=0.5 else 0 for y in y_pred]\n",
    "\n",
    "# Making the Confusion Matrix\n",
    "cm = confusion_matrix(y_test, y_pred)\n",
    "\n",
    "print(\"Our accuracy is {}%\".format(((cm[0][0] + cm[1][1])/175)*100))\n",
    "\n",
    "sns.heatmap(cm, annot=True)"
   ]
  },
  {
   "cell_type": "markdown",
   "id": "deadly-profession",
   "metadata": {},
   "source": [
    "### ANN with Early Stopping"
   ]
  },
  {
   "cell_type": "code",
   "execution_count": 32,
   "id": "legendary-italian",
   "metadata": {},
   "outputs": [
    {
     "name": "stdout",
     "output_type": "stream",
     "text": [
      "Train: 0.876, Test: 0.688\n"
     ]
    },
    {
     "data": {
      "image/png": "[encoded data removed]",
      "text/plain": [
       "<Figure size 432x288 with 1 Axes>"
      ]
     },
     "metadata": {
      "needs_background": "light"
     },
     "output_type": "display_data"
    }
   ],
   "source": [
    "# simple early stopping\n",
    "from keras.callbacks import EarlyStopping\n",
    "from matplotlib import pyplot\n",
    "es = EarlyStopping(monitor='val_loss', mode='min', verbose=1, patience=200)\n",
    "# fit model\n",
    "history = classifier.fit(x_train, y_train, validation_data=(x_test, y_test), epochs=200, verbose=0, callbacks=[es])\n",
    "# evaluate the model\n",
    "_, train_acc = classifier.evaluate(x_train, y_train, verbose=0)\n",
    "_, test_acc = classifier.evaluate(x_test, y_test, verbose=0)\n",
    "print('Train: %.3f, Test: %.3f' % (train_acc, test_acc))\n",
    "# plot training history\n",
    "pyplot.plot(history.history['loss'], label='train')\n",
    "pyplot.plot(history.history['val_loss'], label='test')\n",
    "pyplot.legend()\n",
    "pyplot.show()"
   ]
  },
  {
   "cell_type": "markdown",
   "id": "found-journal",
   "metadata": {},
   "source": [
    "### Prediction for given 20 data points"
   ]
  },
  {
   "cell_type": "code",
   "execution_count": 34,
   "id": "super-auckland",
   "metadata": {},
   "outputs": [],
   "source": [
    "prediction_dataset = pd.read_csv(\"2021-01-21_zeta-disease_prediction-data_dsi-take-home-challenge.csv\")"
   ]
  },
  {
   "cell_type": "code",
   "execution_count": 35,
   "id": "acting-regression",
   "metadata": {},
   "outputs": [
    {
     "name": "stdout",
     "output_type": "stream",
     "text": [
      "(20, 8) (20,)\n"
     ]
    }
   ],
   "source": [
    "x = pd.DataFrame.copy(prediction_dataset)\n",
    "y = x.pop('zeta_disease')\n",
    "print(x.shape, y.shape)"
   ]
  },
  {
   "cell_type": "code",
   "execution_count": 36,
   "id": "fundamental-burns",
   "metadata": {},
   "outputs": [
    {
     "data": {
      "text/html": [
       "<div>\n",
       "<style scoped>\n",
       "    .dataframe tbody tr th:only-of-type {\n",
       "        vertical-align: middle;\n",
       "    }\n",
       "\n",
       "    .dataframe tbody tr th {\n",
       "        vertical-align: top;\n",
       "    }\n",
       "\n",
       "    .dataframe thead th {\n",
       "        text-align: right;\n",
       "    }\n",
       "</style>\n",
       "<table border=\"1\" class=\"dataframe\">\n",
       "  <thead>\n",
       "    <tr style=\"text-align: right;\">\n",
       "      <th></th>\n",
       "      <th>age</th>\n",
       "      <th>weight</th>\n",
       "      <th>bmi</th>\n",
       "      <th>blood_pressure</th>\n",
       "      <th>insulin_test</th>\n",
       "      <th>liver_stress_test</th>\n",
       "      <th>cardio_stress_test</th>\n",
       "      <th>years_smoking</th>\n",
       "    </tr>\n",
       "  </thead>\n",
       "  <tbody>\n",
       "    <tr>\n",
       "      <th>0</th>\n",
       "      <td>-0.958114</td>\n",
       "      <td>-1.021011</td>\n",
       "      <td>0.776978</td>\n",
       "      <td>-0.695919</td>\n",
       "      <td>-0.986618</td>\n",
       "      <td>-0.769630</td>\n",
       "      <td>-0.629119</td>\n",
       "      <td>-0.605897</td>\n",
       "    </tr>\n",
       "    <tr>\n",
       "      <th>1</th>\n",
       "      <td>-0.690733</td>\n",
       "      <td>0.007345</td>\n",
       "      <td>0.157872</td>\n",
       "      <td>0.769174</td>\n",
       "      <td>0.147891</td>\n",
       "      <td>0.406194</td>\n",
       "      <td>-2.003665</td>\n",
       "      <td>-0.014778</td>\n",
       "    </tr>\n",
       "    <tr>\n",
       "      <th>2</th>\n",
       "      <td>-0.066845</td>\n",
       "      <td>-1.167919</td>\n",
       "      <td>-1.173206</td>\n",
       "      <td>-0.183137</td>\n",
       "      <td>-0.959605</td>\n",
       "      <td>0.562079</td>\n",
       "      <td>-0.946322</td>\n",
       "      <td>-1.197015</td>\n",
       "    </tr>\n",
       "    <tr>\n",
       "      <th>3</th>\n",
       "      <td>0.022282</td>\n",
       "      <td>0.998974</td>\n",
       "      <td>-0.321935</td>\n",
       "      <td>-0.402901</td>\n",
       "      <td>-0.243784</td>\n",
       "      <td>-0.484582</td>\n",
       "      <td>-0.100448</td>\n",
       "      <td>-0.014778</td>\n",
       "    </tr>\n",
       "    <tr>\n",
       "      <th>4</th>\n",
       "      <td>2.250454</td>\n",
       "      <td>0.521523</td>\n",
       "      <td>-0.724354</td>\n",
       "      <td>-1.208702</td>\n",
       "      <td>0.634109</td>\n",
       "      <td>0.936205</td>\n",
       "      <td>0.322490</td>\n",
       "      <td>0.871900</td>\n",
       "    </tr>\n",
       "    <tr>\n",
       "      <th>5</th>\n",
       "      <td>0.913551</td>\n",
       "      <td>-2.159547</td>\n",
       "      <td>0.312649</td>\n",
       "      <td>2.161013</td>\n",
       "      <td>-1.283751</td>\n",
       "      <td>-1.210564</td>\n",
       "      <td>-0.840588</td>\n",
       "      <td>1.758578</td>\n",
       "    </tr>\n",
       "    <tr>\n",
       "      <th>6</th>\n",
       "      <td>-1.314621</td>\n",
       "      <td>-1.461734</td>\n",
       "      <td>0.575769</td>\n",
       "      <td>-1.281957</td>\n",
       "      <td>-0.919087</td>\n",
       "      <td>0.054337</td>\n",
       "      <td>0.639693</td>\n",
       "      <td>-0.901456</td>\n",
       "    </tr>\n",
       "    <tr>\n",
       "      <th>7</th>\n",
       "      <td>-1.047241</td>\n",
       "      <td>-1.535188</td>\n",
       "      <td>-0.507667</td>\n",
       "      <td>-0.622665</td>\n",
       "      <td>-0.973111</td>\n",
       "      <td>-0.680553</td>\n",
       "      <td>-0.311916</td>\n",
       "      <td>0.280781</td>\n",
       "    </tr>\n",
       "    <tr>\n",
       "      <th>8</th>\n",
       "      <td>0.111409</td>\n",
       "      <td>0.594977</td>\n",
       "      <td>-0.616011</td>\n",
       "      <td>-1.428466</td>\n",
       "      <td>-0.054700</td>\n",
       "      <td>-0.533575</td>\n",
       "      <td>-0.311916</td>\n",
       "      <td>-0.014778</td>\n",
       "    </tr>\n",
       "    <tr>\n",
       "      <th>9</th>\n",
       "      <td>-1.403748</td>\n",
       "      <td>0.521523</td>\n",
       "      <td>-1.343460</td>\n",
       "      <td>0.402901</td>\n",
       "      <td>-1.067654</td>\n",
       "      <td>0.998560</td>\n",
       "      <td>-1.263525</td>\n",
       "      <td>-0.901456</td>\n",
       "    </tr>\n",
       "  </tbody>\n",
       "</table>\n",
       "</div>"
      ],
      "text/plain": [
       "        age    weight       bmi  blood_pressure  insulin_test  \\\n",
       "0 -0.958114 -1.021011  0.776978       -0.695919     -0.986618   \n",
       "1 -0.690733  0.007345  0.157872        0.769174      0.147891   \n",
       "2 -0.066845 -1.167919 -1.173206       -0.183137     -0.959605   \n",
       "3  0.022282  0.998974 -0.321935       -0.402901     -0.243784   \n",
       "4  2.250454  0.521523 -0.724354       -1.208702      0.634109   \n",
       "5  0.913551 -2.159547  0.312649        2.161013     -1.283751   \n",
       "6 -1.314621 -1.461734  0.575769       -1.281957     -0.919087   \n",
       "7 -1.047241 -1.535188 -0.507667       -0.622665     -0.973111   \n",
       "8  0.111409  0.594977 -0.616011       -1.428466     -0.054700   \n",
       "9 -1.403748  0.521523 -1.343460        0.402901     -1.067654   \n",
       "\n",
       "   liver_stress_test  cardio_stress_test  years_smoking  \n",
       "0          -0.769630           -0.629119      -0.605897  \n",
       "1           0.406194           -2.003665      -0.014778  \n",
       "2           0.562079           -0.946322      -1.197015  \n",
       "3          -0.484582           -0.100448      -0.014778  \n",
       "4           0.936205            0.322490       0.871900  \n",
       "5          -1.210564           -0.840588       1.758578  \n",
       "6           0.054337            0.639693      -0.901456  \n",
       "7          -0.680553           -0.311916       0.280781  \n",
       "8          -0.533575           -0.311916      -0.014778  \n",
       "9           0.998560           -1.263525      -0.901456  "
      ]
     },
     "execution_count": 36,
     "metadata": {},
     "output_type": "execute_result"
    }
   ],
   "source": [
    "# preprocessing of data. standardization\n",
    "for feature in x.columns:\n",
    "    std_scaler = StandardScaler()\n",
    "    x[feature] = std_scaler.fit_transform(x[feature].values.reshape(-1,1))\n",
    "x.head(10)"
   ]
  },
  {
   "cell_type": "code",
   "execution_count": 37,
   "id": "incorrect-species",
   "metadata": {},
   "outputs": [],
   "source": [
    "# predicting with 20 data points\n",
    "predictions = classifier.predict(x)\n",
    "predictions = [ 1 if y>=0.5 else 0 for y in predictions]"
   ]
  },
  {
   "cell_type": "code",
   "execution_count": 38,
   "id": "alternative-pittsburgh",
   "metadata": {},
   "outputs": [
    {
     "data": {
      "text/plain": [
       "[0, 0, 0, 1, 0, 0, 0, 0, 1, 0, 0, 1, 0, 1, 1, 1, 0, 1, 0, 1]"
      ]
     },
     "execution_count": 38,
     "metadata": {},
     "output_type": "execute_result"
    }
   ],
   "source": [
    "predictions"
   ]
  },
  {
   "cell_type": "code",
   "execution_count": 40,
   "id": "fifth-raleigh",
   "metadata": {},
   "outputs": [],
   "source": [
    "prediction_dataset['zeta_disease'] = predictions"
   ]
  },
  {
   "cell_type": "code",
   "execution_count": 42,
   "id": "external-biography",
   "metadata": {},
   "outputs": [],
   "source": [
    "# Save final predictions as csv file.\n",
    "prediction_dataset.to_csv('final_predictions.csv', index=False) "
   ]
  },
  {
   "cell_type": "code",
   "execution_count": 43,
   "id": "genuine-representative",
   "metadata": {},
   "outputs": [],
   "source": [
    "from keras.models import load_model\n",
    "#Save trained ANN\n",
    "classifier.save('zeta_disease_model.h5') "
   ]
  },
  {
   "cell_type": "markdown",
   "id": "contrary-trustee",
   "metadata": {},
   "source": [
    "## Conclusion"
   ]
  },
  {
   "cell_type": "markdown",
   "id": "referenced-mixture",
   "metadata": {},
   "source": [
    "The accuracy of multiple models lies between 75-85% but the accuracy of Artifical Neural Network is high. Model is overfit with high variance as model highly trained. It is due to very less data. If we have more data then we can limit the variance and also we can increase the accuracy.   "
   ]
  },
  {
   "cell_type": "markdown",
   "id": "theoretical-marker",
   "metadata": {},
   "source": [
    "  =================================== Thank you ======================================"
   ]
  }
 ],
 "metadata": {
  "kernelspec": {
   "display_name": "Python 3",
   "language": "python",
   "name": "python3"
  },
  "language_info": {
   "codemirror_mode": {
    "name": "ipython",
    "version": 3
   },
   "file_extension": ".py",
   "mimetype": "text/x-python",
   "name": "python",
   "nbconvert_exporter": "python",
   "pygments_lexer": "ipython3",
   "version": "3.7.4"
  }
 },
 "nbformat": 4,
 "nbformat_minor": 5
}
